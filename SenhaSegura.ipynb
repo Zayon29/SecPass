{
 "cells": [
  {
   "cell_type": "code",
   "execution_count": 3,
   "id": "2b6e2bc2",
   "metadata": {},
   "outputs": [
    {
     "name": "stdout",
     "output_type": "stream",
     "text": [
      "Senha gerada: \\j<kDMKpCv@/$`^b\n"
     ]
    }
   ],
   "source": [
    "import random\n",
    "import string\n",
    "\n",
    "def gerar_senha(tamanho=12, maiusculas=True, minusculas=True, numeros=True, especiais=True):\n",
    "    # Caracteres possíveis para a senha\n",
    "    caracteres = \"\"\n",
    "    if maiusculas:\n",
    "        caracteres += string.ascii_uppercase  # Letras maiúsculas\n",
    "    if minusculas:\n",
    "        caracteres += string.ascii_lowercase  # Letras minúsculas\n",
    "    if numeros:\n",
    "        caracteres += string.digits  # Números\n",
    "    if especiais:\n",
    "        caracteres += string.punctuation  # Caracteres especiais\n",
    "    \n",
    "    # Verifica se ao menos um tipo de caractere foi selecionado\n",
    "    if not caracteres:\n",
    "        raise ValueError(\"É preciso selecionar ao menos um tipo de caractere para a senha.\")\n",
    "    \n",
    "    # Gera a senha aleatória com o tamanho especificado\n",
    "    senha = ''.join(random.choice(caracteres) for _ in range(tamanho))\n",
    "    return senha\n",
    "\n",
    "# Exemplo de uso\n",
    "senha = gerar_senha(tamanho=16)\n",
    "print(\"Senha gerada:\", senha)\n"
   ]
  },
  {
   "cell_type": "code",
   "execution_count": 20,
   "id": "92e23e87",
   "metadata": {},
   "outputs": [
    {
     "name": "stdout",
     "output_type": "stream",
     "text": [
      "Digite uma palavra ou frase fácil de lembrar: leao\n",
      "Senha gerada: BloJa96e\n"
     ]
    }
   ],
   "source": [
    "import random\n",
    "import string\n",
    "\n",
    "def gerar_senha_baseada_em_sugestao(sugestao, tamanho_extra=4):\n",
    "    # Remove espaços e torna a sugestão uma lista de caracteres\n",
    "    base = list(sugestao.replace(\" \", \"\"))\n",
    "    \n",
    "    # Mistura os caracteres da sugestão para torná-la menos previsível\n",
    "    random.shuffle(base)\n",
    "    \n",
    "    # Converte a lista de volta para uma string com os caracteres embaralhados\n",
    "    base_senha = ''.join(base)\n",
    "    \n",
    "    # Garante que a senha atenda a um comprimento mínimo, adicionando caracteres extras\n",
    "    extras = (\n",
    "        random.choices(string.ascii_uppercase, k=tamanho_extra // 2) +\n",
    "        random.choices(string.digits, k=(tamanho_extra + 1) // 2)\n",
    "    )\n",
    "    random.shuffle(extras)\n",
    "    \n",
    "    # Junta a base com os caracteres extras\n",
    "    senha = base_senha + ''.join(extras)\n",
    "    \n",
    "    # Embaralha novamente a senha final para garantir aleatoriedade\n",
    "    senha_final = ''.join(random.sample(senha, len(senha)))\n",
    "    return senha_final\n",
    "\n",
    "# Exemplo de uso\n",
    "sugestao_usuario = input(\"Digite uma palavra ou frase fácil de lembrar: \")\n",
    "senha = gerar_senha_baseada_em_sugestao(sugestao_usuario, tamanho_extra=4)\n",
    "print(\"Senha gerada:\", senha)\n"
   ]
  },
  {
   "cell_type": "code",
   "execution_count": 8,
   "id": "af1d1c72",
   "metadata": {},
   "outputs": [
    {
     "name": "stdout",
     "output_type": "stream",
     "text": [
      "Requirement already satisfied: nltk in d:\\users\\zayon\\anaconda3\\lib\\site-packages (3.7)\n",
      "Requirement already satisfied: regex>=2021.8.3 in d:\\users\\zayon\\anaconda3\\lib\\site-packages (from nltk) (2022.7.9)\n",
      "Requirement already satisfied: click in d:\\users\\zayon\\anaconda3\\lib\\site-packages (from nltk) (8.0.4)\n",
      "Requirement already satisfied: joblib in d:\\users\\zayon\\anaconda3\\lib\\site-packages (from nltk) (1.1.0)\n",
      "Requirement already satisfied: tqdm in d:\\users\\zayon\\anaconda3\\lib\\site-packages (from nltk) (4.64.1)\n",
      "Requirement already satisfied: colorama in d:\\users\\zayon\\anaconda3\\lib\\site-packages (from click->nltk) (0.4.5)\n"
     ]
    }
   ],
   "source": [
    "!pip install nltk"
   ]
  },
  {
   "cell_type": "code",
   "execution_count": 11,
   "id": "43a45eb6",
   "metadata": {},
   "outputs": [
    {
     "name": "stderr",
     "output_type": "stream",
     "text": [
      "[nltk_data] Downloading package averaged_perceptron_tagger to\n",
      "[nltk_data]     C:\\Users\\zayon\\AppData\\Roaming\\nltk_data...\n",
      "[nltk_data]   Package averaged_perceptron_tagger is already up-to-\n",
      "[nltk_data]       date!\n",
      "[nltk_data] Downloading package punkt to\n",
      "[nltk_data]     C:\\Users\\zayon\\AppData\\Roaming\\nltk_data...\n",
      "[nltk_data]   Package punkt is already up-to-date!\n",
      "[nltk_data] Downloading package wordnet to\n",
      "[nltk_data]     C:\\Users\\zayon\\AppData\\Roaming\\nltk_data...\n",
      "[nltk_data]   Package wordnet is already up-to-date!\n"
     ]
    },
    {
     "name": "stdout",
     "output_type": "stream",
     "text": [
      "Descreva algo que possa lembrar facilmente: carro\n",
      "Senha gerada: K}0c`rr59A@\n"
     ]
    }
   ],
   "source": [
    "import random\n",
    "import string\n",
    "import nltk\n",
    "from nltk.corpus import wordnet\n",
    "from nltk import pos_tag, word_tokenize\n",
    "\n",
    "# Baixa o conjunto de dados do NLTK, necessário apenas uma vez\n",
    "nltk.download('averaged_perceptron_tagger')\n",
    "nltk.download('punkt')\n",
    "nltk.download('wordnet')\n",
    "\n",
    "def gerar_senha_ia(frase_usuario, tamanho_extra=4):\n",
    "    # Tokeniza a frase e realiza a marcação de partes do discurso (POS tagging)\n",
    "    tokens = word_tokenize(frase_usuario)\n",
    "    pos_tagged = pos_tag(tokens)\n",
    "\n",
    "    # Identifica substantivos, adjetivos e verbos, os tipos de palavras mais significativos\n",
    "    palavras_chave = [word for word, pos in pos_tagged if pos.startswith('NN') or pos.startswith('VB') or pos.startswith('JJ')]\n",
    "\n",
    "    # Separa palavras principais e modifica algumas letras para símbolos\n",
    "    senha_base = []\n",
    "    for palavra in palavras_chave:\n",
    "        palavra_modificada = palavra.lower()\n",
    "        palavra_modificada = (\n",
    "            palavra_modificada.replace(\"a\", \"@\")\n",
    "                              .replace(\"o\", \"0\")\n",
    "                              .replace(\"i\", \"!\")\n",
    "                              .replace(\"e\", \"3\")\n",
    "        )\n",
    "        senha_base.append(palavra_modificada)\n",
    "\n",
    "    # Constrói a base da senha usando palavras modificadas e combina com caracteres aleatórios para complexidade extra\n",
    "    base_senha = ''.join(senha_base)\n",
    "    extras = (\n",
    "        random.choices(string.ascii_uppercase, k=tamanho_extra // 2) +\n",
    "        random.choices(string.digits, k=(tamanho_extra + 1) // 2) +\n",
    "        random.choices(string.punctuation, k=(tamanho_extra // 2))\n",
    "    )\n",
    "    random.shuffle(extras)\n",
    "    senha = base_senha + ''.join(extras)\n",
    "    \n",
    "    # Embaralha a senha final para garantir a aleatoriedade\n",
    "    senha_final = ''.join(random.sample(senha, len(senha)))\n",
    "    return senha_final\n",
    "\n",
    "# Exemplo de uso\n",
    "frase_usuario = input(\"Descreva algo que possa lembrar facilmente: \")\n",
    "senha = gerar_senha_ia(frase_usuario)\n",
    "print(\"Senha gerada:\", senha)\n"
   ]
  },
  {
   "cell_type": "code",
   "execution_count": 19,
   "id": "491d8990",
   "metadata": {},
   "outputs": [
    {
     "name": "stderr",
     "output_type": "stream",
     "text": [
      "[nltk_data] Downloading package averaged_perceptron_tagger to\n",
      "[nltk_data]     C:\\Users\\zayon\\AppData\\Roaming\\nltk_data...\n",
      "[nltk_data]   Package averaged_perceptron_tagger is already up-to-\n",
      "[nltk_data]       date!\n",
      "[nltk_data] Downloading package punkt to\n",
      "[nltk_data]     C:\\Users\\zayon\\AppData\\Roaming\\nltk_data...\n",
      "[nltk_data]   Package punkt is already up-to-date!\n",
      "[nltk_data] Downloading package vader_lexicon to\n",
      "[nltk_data]     C:\\Users\\zayon\\AppData\\Roaming\\nltk_data...\n",
      "[nltk_data]   Package vader_lexicon is already up-to-date!\n"
     ]
    },
    {
     "name": "stdout",
     "output_type": "stream",
     "text": [
      "Descreva algo que possa lembrar facilmente: happy\n",
      "Detectado sentimento positivo. Gerando senha alegre!\n",
      "Senha gerada: pL3@Q)py1h{\n"
     ]
    }
   ],
   "source": [
    "import random\n",
    "import string\n",
    "import nltk\n",
    "from nltk import pos_tag, word_tokenize\n",
    "from nltk.corpus import wordnet\n",
    "from nltk.sentiment import SentimentIntensityAnalyzer\n",
    "\n",
    "# Baixa os dados do NLTK\n",
    "try:\n",
    "    nltk.data.find('tokenizers/punkt')\n",
    "    nltk.data.find('taggers/averaged_perceptron_tagger')\n",
    "    nltk.data.find('vader_lexicon')\n",
    "except LookupError:\n",
    "    nltk.download('averaged_perceptron_tagger')\n",
    "    nltk.download('punkt')\n",
    "    nltk.download('vader_lexicon')\n",
    "\n",
    "# Inicializa o analisador de sentimento\n",
    "sia = SentimentIntensityAnalyzer()\n",
    "\n",
    "def gerar_senha_ia(frase_usuario, tamanho_extra=4):\n",
    "    # Análise de sentimento\n",
    "    sentimento = sia.polarity_scores(frase_usuario)\n",
    "    if sentimento['compound'] >= 0.05:\n",
    "        print(\"Detectado sentimento positivo. Gerando senha alegre!\")\n",
    "    elif sentimento['compound'] <= -0.05:\n",
    "        print(\"Detectado sentimento negativo. Gerando senha mais forte e séria.\")\n",
    "    else:\n",
    "        print(\"Detectado sentimento neutro. Gerando senha padrão.\")\n",
    "    \n",
    "    # Tokenização e marcação das partes do discurso\n",
    "    tokens = word_tokenize(frase_usuario)\n",
    "    pos_tagged = pos_tag(tokens)\n",
    "\n",
    "    # Identifica palavras importantes\n",
    "    palavras_chave = [word for word, pos in pos_tagged if pos.startswith('NN') or pos.startswith('VB') or pos.startswith('JJ')]\n",
    "\n",
    "    senha_base = []\n",
    "    for palavra in palavras_chave:\n",
    "        palavra_modificada = palavra.lower()\n",
    "        \n",
    "        # Substituições mais inteligentes baseadas no sentimento\n",
    "        if sentimento['compound'] >= 0.05:\n",
    "            palavra_modificada = palavra_modificada.replace(\"a\", \"@\").replace(\"o\", \"0\").replace(\"i\", \"1\").replace(\"e\", \"3\")\n",
    "        elif sentimento['compound'] <= -0.05:\n",
    "            palavra_modificada = palavra_modificada.replace(\"a\", \"#\").replace(\"o\", \"&\").replace(\"i\", \"!\")\n",
    "        \n",
    "        senha_base.append(palavra_modificada)\n",
    "\n",
    "    # Base da senha e complementos aleatórios\n",
    "    base_senha = ''.join(senha_base)\n",
    "    extras = (\n",
    "        random.choices(string.ascii_uppercase, k=tamanho_extra // 2) +\n",
    "        random.choices(string.digits, k=(tamanho_extra + 1) // 2) +\n",
    "        random.choices(string.punctuation, k=(tamanho_extra // 2))\n",
    "    )\n",
    "    random.shuffle(extras)\n",
    "    senha = base_senha + ''.join(extras)\n",
    "    \n",
    "    # Embaralha a senha final para aleatoriedade\n",
    "    senha_final = ''.join(random.sample(senha, len(senha)))\n",
    "    return senha_final\n",
    "\n",
    "# Exemplo de uso\n",
    "frase_usuario = input(\"Descreva algo que possa lembrar facilmente: \")\n",
    "senha = gerar_senha_ia(frase_usuario)\n",
    "print(\"Senha gerada:\", senha)\n"
   ]
  },
  {
   "cell_type": "code",
   "execution_count": null,
   "id": "dde1cc84",
   "metadata": {},
   "outputs": [],
   "source": []
  },
  {
   "cell_type": "code",
   "execution_count": null,
   "id": "a8607e4f",
   "metadata": {},
   "outputs": [],
   "source": []
  }
 ],
 "metadata": {
  "kernelspec": {
   "display_name": "Python 3 (ipykernel)",
   "language": "python",
   "name": "python3"
  },
  "language_info": {
   "codemirror_mode": {
    "name": "ipython",
    "version": 3
   },
   "file_extension": ".py",
   "mimetype": "text/x-python",
   "name": "python",
   "nbconvert_exporter": "python",
   "pygments_lexer": "ipython3",
   "version": "3.9.13"
  }
 },
 "nbformat": 4,
 "nbformat_minor": 5
}
